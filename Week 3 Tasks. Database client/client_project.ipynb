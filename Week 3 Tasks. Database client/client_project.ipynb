{
 "cells": [
  {
   "cell_type": "code",
   "execution_count": 1,
   "id": "875e1818-11a4-406e-a27b-6926cedecfa7",
   "metadata": {},
   "outputs": [
    {
     "name": "stdout",
     "output_type": "stream",
     "text": [
      "Collecting mysql-connector-python\n",
      "  Downloading mysql_connector_python-9.2.0-cp312-cp312-win_amd64.whl.metadata (6.2 kB)\n",
      "Downloading mysql_connector_python-9.2.0-cp312-cp312-win_amd64.whl (16.1 MB)\n",
      "   ---------------------------------------- 0.0/16.1 MB ? eta -:--:--\n",
      "   ---------------------------------------- 0.0/16.1 MB ? eta -:--:--\n",
      "    --------------------------------------- 0.3/16.1 MB ? eta -:--:--\n",
      "   -- ------------------------------------- 1.0/16.1 MB 3.0 MB/s eta 0:00:06\n",
      "   ---- ----------------------------------- 1.8/16.1 MB 3.2 MB/s eta 0:00:05\n",
      "   ----- ---------------------------------- 2.4/16.1 MB 3.3 MB/s eta 0:00:05\n",
      "   -------- ------------------------------- 3.4/16.1 MB 3.5 MB/s eta 0:00:04\n",
      "   ---------- ----------------------------- 4.2/16.1 MB 3.7 MB/s eta 0:00:04\n",
      "   ------------- -------------------------- 5.2/16.1 MB 3.9 MB/s eta 0:00:03\n",
      "   ---------------- ----------------------- 6.6/16.1 MB 4.2 MB/s eta 0:00:03\n",
      "   -------------------- ------------------- 8.1/16.1 MB 4.6 MB/s eta 0:00:02\n",
      "   ----------------------- ---------------- 9.4/16.1 MB 4.9 MB/s eta 0:00:02\n",
      "   -------------------------- ------------- 10.5/16.1 MB 4.9 MB/s eta 0:00:02\n",
      "   ----------------------------- ---------- 12.1/16.1 MB 5.2 MB/s eta 0:00:01\n",
      "   ----------------------------------- ---- 14.2/16.1 MB 5.5 MB/s eta 0:00:01\n",
      "   ---------------------------------------  16.0/16.1 MB 5.8 MB/s eta 0:00:01\n",
      "   ---------------------------------------  16.0/16.1 MB 5.8 MB/s eta 0:00:01\n",
      "   ---------------------------------------- 16.1/16.1 MB 5.3 MB/s eta 0:00:00\n",
      "Installing collected packages: mysql-connector-python\n",
      "Successfully installed mysql-connector-python-9.2.0\n"
     ]
    }
   ],
   "source": [
    "!pip install mysql-connector-python"
   ]
  },
  {
   "cell_type": "code",
   "execution_count": 9,
   "id": "001e546d-ee31-4c4c-a891-7f02111c54d9",
   "metadata": {},
   "outputs": [
    {
     "name": "stdout",
     "output_type": "stream",
     "text": [
      "Requirement already satisfied: tabulate in c:\\users\\sh.gaybullayev\\anaconda\\anaconda3\\lib\\site-packages (0.9.0)\n"
     ]
    }
   ],
   "source": [
    "!pip install tabulate"
   ]
  },
  {
   "cell_type": "markdown",
   "id": "19e2a24d-670f-46a2-8b81-10ac71a7b180",
   "metadata": {
    "panel-layout": {
     "height": 60.59375,
     "visible": true,
     "width": 100
    }
   },
   "source": [
    "<h1>Connecting to LittleLemonDB with Python/MySQL database client</h1>"
   ]
  },
  {
   "cell_type": "code",
   "execution_count": 13,
   "id": "a796ac81-a84f-49f0-ab0c-86e3c42f29c1",
   "metadata": {},
   "outputs": [],
   "source": [
    "import mysql.connector as connector\n",
    "from tabulate import tabulate "
   ]
  },
  {
   "cell_type": "markdown",
   "id": "37fc2141-af23-4dce-a4a9-8633d25d2b41",
   "metadata": {
    "panel-layout": {
     "height": 77.875,
     "visible": true,
     "width": 100
    }
   },
   "source": [
    "<h2>Task 1</h2>\n",
    "<h3>Connect to database and create cursor</h3>"
   ]
  },
  {
   "cell_type": "code",
   "execution_count": 18,
   "id": "967eec7c-34ad-493b-90cc-fe821853defb",
   "metadata": {},
   "outputs": [],
   "source": [
    "connection = connector.connect(\n",
    "    host = \"localhost\",\n",
    "    user = \"root\",\n",
    "    password = \"QQ123456\",\n",
    "    database = \"LittleLemonDB\"\n",
    ")"
   ]
  },
  {
   "cell_type": "code",
   "execution_count": 19,
   "id": "8c424b3b-9ba0-4833-8646-d40a2ff1071d",
   "metadata": {},
   "outputs": [],
   "source": [
    "cursor = connection.cursor()"
   ]
  },
  {
   "cell_type": "markdown",
   "id": "909e8a4d-a093-4bd5-bac6-7e6abddabcaa",
   "metadata": {
    "panel-layout": {
     "height": 77.875,
     "visible": true,
     "width": 100
    }
   },
   "source": [
    "<h2>Task 2</h2>\n",
    "<h3>Query the database and list tables</h3>"
   ]
  },
  {
   "cell_type": "code",
   "execution_count": 20,
   "id": "ea44ab3f-55e7-4ec9-9373-20ad9405edcd",
   "metadata": {},
   "outputs": [
    {
     "name": "stdout",
     "output_type": "stream",
     "text": [
      "('bookings',)\n",
      "('customers',)\n",
      "('deliverystatus',)\n",
      "('menuitems',)\n",
      "('menus',)\n",
      "('orders',)\n",
      "('ordersview',)\n",
      "('staff',)\n"
     ]
    }
   ],
   "source": [
    "show_tables_query = \"SHOW tables\" \n",
    "cursor.execute(show_tables_query)\n",
    "results = cursor.fetchall()\n",
    "\n",
    "# Printing tables in database\n",
    "for row in results:\n",
    "    print(row)"
   ]
  },
  {
   "cell_type": "markdown",
   "id": "78c89bd0-f73c-4463-95dc-eb7709d5d891",
   "metadata": {
    "panel-layout": {
     "height": 112,
     "visible": true,
     "width": 100
    }
   },
   "source": [
    "<h2>Task 3</h2>\n",
    "<h3>Query with table JOIN</h3>\n",
    "<p>They require the full name and contact details for every customer that has placed an order greater than $60 for a promotional campaign.</p>"
   ]
  },
  {
   "cell_type": "code",
   "execution_count": 21,
   "id": "8c91fc10-4276-4793-ab05-fa9443e847bd",
   "metadata": {
    "panel-layout": {
     "height": 0,
     "visible": true,
     "width": 100
    }
   },
   "outputs": [
    {
     "name": "stdout",
     "output_type": "stream",
     "text": [
      "+----------------+-----------------+--------------+\n",
      "| FullName       |   ContactNumber |   BillAmount |\n",
      "+================+=================+==============+\n",
      "| Charlie Davis  |         7654321 |           80 |\n",
      "+----------------+-----------------+--------------+\n",
      "| Frank Harris   |         4321098 |          120 |\n",
      "+----------------+-----------------+--------------+\n",
      "| Charlie Davis  |         7654321 |          175 |\n",
      "+----------------+-----------------+--------------+\n",
      "| Grace Martinez |         3210987 |          220 |\n",
      "+----------------+-----------------+--------------+\n",
      "| Isaac White    |         1098765 |          190 |\n",
      "+----------------+-----------------+--------------+\n"
     ]
    }
   ],
   "source": [
    "sql_query = \"\"\"\n",
    "SELECT Customers.FullName, Customers.ContactNumber, Orders.TotalCost AS `BillAmount`\n",
    "FROM Customers\n",
    "JOIN Orders\n",
    "ON Customers.CustomerID = Orders.CustomerID\n",
    "WHERE Orders.TotalCost > 60;\n",
    "\"\"\"\n",
    "\n",
    "cursor.execute(sql_query)\n",
    "results = cursor.fetchall()\n",
    "\n",
    "columns = [desc[0] for desc in cursor.description]\n",
    "\n",
    "print(tabulate(results, headers=columns, tablefmt=\"grid\"))\n",
    "\n"
   ]
  },
  {
   "cell_type": "markdown",
   "id": "1a672989-9a81-4b25-bfc4-d5de1eb49d27",
   "metadata": {
    "panel-layout": {
     "height": 44.09375,
     "visible": true,
     "width": 100
    }
   },
   "source": [
    "<h3>Close connection!</h3>"
   ]
  },
  {
   "cell_type": "code",
   "execution_count": 22,
   "id": "695be995-f119-45e0-85e3-f986a4da4b5d",
   "metadata": {
    "panel-layout": {
     "height": 0,
     "visible": true,
     "width": 100
    }
   },
   "outputs": [],
   "source": [
    "cursor.close()\n",
    "connection.close()"
   ]
  }
 ],
 "metadata": {
  "kernelspec": {
   "display_name": "Python 3 (ipykernel)",
   "language": "python",
   "name": "python3"
  },
  "language_info": {
   "codemirror_mode": {
    "name": "ipython",
    "version": 3
   },
   "file_extension": ".py",
   "mimetype": "text/x-python",
   "name": "python",
   "nbconvert_exporter": "python",
   "pygments_lexer": "ipython3",
   "version": "3.12.7"
  },
  "panel-cell-order": [
   "19e2a24d-670f-46a2-8b81-10ac71a7b180",
   "37fc2141-af23-4dce-a4a9-8633d25d2b41",
   "909e8a4d-a093-4bd5-bac6-7e6abddabcaa",
   "78c89bd0-f73c-4463-95dc-eb7709d5d891",
   "8c91fc10-4276-4793-ab05-fa9443e847bd",
   "1a672989-9a81-4b25-bfc4-d5de1eb49d27",
   "695be995-f119-45e0-85e3-f986a4da4b5d"
  ]
 },
 "nbformat": 4,
 "nbformat_minor": 5
}
